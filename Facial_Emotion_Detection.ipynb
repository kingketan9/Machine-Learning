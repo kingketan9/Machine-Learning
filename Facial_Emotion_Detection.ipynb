{
  "nbformat": 4,
  "nbformat_minor": 0,
  "metadata": {
    "colab": {
      "name": "Facial Emotion Detection.ipynb",
      "provenance": [],
      "include_colab_link": true
    },
    "kernelspec": {
      "name": "python3",
      "display_name": "Python 3"
    },
    "language_info": {
      "name": "python"
    },
    "accelerator": "GPU",
    "gpuClass": "standard"
  },
  "cells": [
    {
      "cell_type": "markdown",
      "metadata": {
        "id": "view-in-github",
        "colab_type": "text"
      },
      "source": [
        "<a href=\"https://colab.research.google.com/github/kingketan9/Machine-Learning/blob/main/Facial_Emotion_Detection.ipynb\" target=\"_parent\"><img src=\"https://colab.research.google.com/assets/colab-badge.svg\" alt=\"Open In Colab\"/></a>"
      ]
    },
    {
      "cell_type": "code",
      "source": [
        "!unzip '/content/drive/MyDrive/archive.zip'"
      ],
      "metadata": {
        "id": "AUOSVVQcqWql"
      },
      "execution_count": null,
      "outputs": []
    },
    {
      "cell_type": "code",
      "source": [
        "import numpy as np\n",
        "import cv2\n",
        "from keras.models import Sequential\n",
        "from keras.layers import Dense, Dropout, Flatten\n",
        "from keras. layers import Convolution2D\n",
        "#from keras.optimizers import adam\n",
        "from tensorflow.keras.optimizers import Adam\n",
        "from keras.layers import MaxPooling2D\n",
        "from keras.preprocessing.image import ImageDataGenerator"
      ],
      "metadata": {
        "id": "5vpO6FUydMj_"
      },
      "execution_count": null,
      "outputs": []
    },
    {
      "cell_type": "code",
      "source": [
        "train_img_datagen= ImageDataGenerator(rescale=1./255)\n",
        "val_img_datagen= ImageDataGenerator(rescale=1./255)\n",
        "\n",
        "train_set=train_img_datagen.flow_from_directory(\n",
        "    '/content/train',\n",
        "    target_size=(48,48),\n",
        "    batch_size=64,\n",
        "    color_mode='rgb',\n",
        "    class_mode='categorical')\n",
        "\n",
        "val_set=val_img_datagen.flow_from_directory(\n",
        "    '/content/test',\n",
        "    target_size=(48,48),\n",
        "    batch_size=64,\n",
        "    color_mode='rgb',\n",
        "    class_mode='categorical')"
      ],
      "metadata": {
        "colab": {
          "base_uri": "https://localhost:8080/"
        },
        "id": "WHJEOWHPgU5u",
        "outputId": "fe65fde3-35a9-4689-9d6b-0027343ed0ea"
      },
      "execution_count": null,
      "outputs": [
        {
          "output_type": "stream",
          "name": "stdout",
          "text": [
            "Found 28709 images belonging to 7 classes.\n",
            "Found 7178 images belonging to 7 classes.\n"
          ]
        }
      ]
    },
    {
      "cell_type": "code",
      "source": [
        "import tensorflow as tf\n",
        "base_model=tf.keras.applications.ResNet50(input_shape=(48,48,3),include_top=False,weights=\"imagenet\")"
      ],
      "metadata": {
        "colab": {
          "base_uri": "https://localhost:8080/"
        },
        "id": "eNxKUv7ehZwk",
        "outputId": "c4c71a4c-f3f0-43db-fc12-f68b11185986"
      },
      "execution_count": null,
      "outputs": [
        {
          "output_type": "stream",
          "name": "stdout",
          "text": [
            "Downloading data from https://storage.googleapis.com/tensorflow/keras-applications/resnet/resnet50_weights_tf_dim_ordering_tf_kernels_notop.h5\n",
            "94773248/94765736 [==============================] - 0s 0us/step\n",
            "94781440/94765736 [==============================] - 0s 0us/step\n"
          ]
        }
      ]
    },
    {
      "cell_type": "code",
      "source": [
        "model=Sequential()\n",
        "model.add(base_model)\n",
        "model.add(Convolution2D(32,kernel_size=(3,3),activation='relu',padding='same',input_shape=(48,48,3),data_format='channels_last'))\n",
        "model.add(Convolution2D(64,kernel_size=(3,3),padding='same',activation='relu'))\n",
        "model.add(MaxPooling2D(pool_size=(2,2)))\n",
        "model.add(Dropout(0.25))\n",
        "model.add(Convolution2D(128,kernel_size=(3,3),padding='same',activation='relu'))\n",
        "model.add(MaxPooling2D(pool_size=(2,2),padding='same'))\n",
        "model.add(Convolution2D(64,kernel_size=(3,3),padding='same',activation='relu'))\n",
        "model.add(MaxPooling2D(pool_size=(2,2),padding='same'))\n",
        "model.add(Dropout(0.25))\n",
        "model.add(Flatten())\n",
        "model.add(Dense(1024,activation='relu'))\n",
        "model.add(Dropout(0.25))\n",
        "model.add(Dense(7,activation='softmax'))"
      ],
      "metadata": {
        "id": "rMvq-c4Jhr4A"
      },
      "execution_count": null,
      "outputs": []
    },
    {
      "cell_type": "code",
      "source": [
        "model.compile(loss='categorical_crossentropy',optimizer='Adam',metrics=['accuracy'])\n",
        "model_info=model.fit_generator(train_set,steps_per_epoch=449,\n",
        "                               epochs=100,validation_data=val_set,\n",
        "                               validation_steps=112)"
      ],
      "metadata": {
        "colab": {
          "base_uri": "https://localhost:8080/"
        },
        "id": "pN5oH-tyjStI",
        "outputId": "45f27eea-a7fe-4966-9b3b-54160dce207f"
      },
      "execution_count": null,
      "outputs": [
        {
          "metadata": {
            "tags": null
          },
          "name": "stdout",
          "output_type": "stream",
          "text": [
            "Epoch 1/100\n"
          ]
        },
        {
          "metadata": {
            "tags": null
          },
          "name": "stderr",
          "output_type": "stream",
          "text": [
            "/usr/local/lib/python3.7/dist-packages/ipykernel_launcher.py:4: UserWarning: `Model.fit_generator` is deprecated and will be removed in a future version. Please use `Model.fit`, which supports generators.\n",
            "  after removing the cwd from sys.path.\n"
          ]
        },
        {
          "output_type": "stream",
          "name": "stdout",
          "text": [
            "449/449 [==============================] - 57s 84ms/step - loss: 1.5487 - accuracy: 0.3848 - val_loss: 2.0068 - val_accuracy: 0.1405\n",
            "Epoch 2/100\n",
            "449/449 [==============================] - 35s 77ms/step - loss: 1.3592 - accuracy: 0.4785 - val_loss: 1.5848 - val_accuracy: 0.3811\n",
            "Epoch 3/100\n",
            "449/449 [==============================] - 35s 78ms/step - loss: 1.2876 - accuracy: 0.5120 - val_loss: 1.4501 - val_accuracy: 0.4655\n",
            "Epoch 4/100\n",
            "449/449 [==============================] - 35s 78ms/step - loss: 1.2056 - accuracy: 0.5510 - val_loss: 1.3444 - val_accuracy: 0.5011\n",
            "Epoch 5/100\n",
            "449/449 [==============================] - 38s 84ms/step - loss: 1.1429 - accuracy: 0.5750 - val_loss: 1.2767 - val_accuracy: 0.5301\n",
            "Epoch 6/100\n",
            "449/449 [==============================] - 36s 80ms/step - loss: 1.0829 - accuracy: 0.6004 - val_loss: 1.2899 - val_accuracy: 0.5347\n",
            "Epoch 7/100\n",
            "449/449 [==============================] - 38s 84ms/step - loss: 1.0245 - accuracy: 0.6218 - val_loss: 1.3039 - val_accuracy: 0.5232\n",
            "Epoch 8/100\n",
            "449/449 [==============================] - 37s 81ms/step - loss: 0.9749 - accuracy: 0.6454 - val_loss: 1.4667 - val_accuracy: 0.5021\n",
            "Epoch 9/100\n",
            "449/449 [==============================] - 36s 80ms/step - loss: 0.9195 - accuracy: 0.6667 - val_loss: 1.3360 - val_accuracy: 0.5279\n",
            "Epoch 10/100\n",
            "449/449 [==============================] - 36s 80ms/step - loss: 0.8421 - accuracy: 0.6997 - val_loss: 1.2715 - val_accuracy: 0.5505\n",
            "Epoch 11/100\n",
            "449/449 [==============================] - 36s 80ms/step - loss: 0.7858 - accuracy: 0.7224 - val_loss: 1.2599 - val_accuracy: 0.5674\n",
            "Epoch 12/100\n",
            "449/449 [==============================] - 36s 79ms/step - loss: 0.7185 - accuracy: 0.7507 - val_loss: 1.3710 - val_accuracy: 0.5554\n",
            "Epoch 13/100\n",
            "449/449 [==============================] - 36s 79ms/step - loss: 0.6616 - accuracy: 0.7692 - val_loss: 1.4206 - val_accuracy: 0.5586\n",
            "Epoch 14/100\n",
            "449/449 [==============================] - 36s 79ms/step - loss: 0.5997 - accuracy: 0.7962 - val_loss: 1.4097 - val_accuracy: 0.5688\n",
            "Epoch 15/100\n",
            "449/449 [==============================] - 36s 80ms/step - loss: 0.5559 - accuracy: 0.8149 - val_loss: 1.4901 - val_accuracy: 0.5407\n",
            "Epoch 16/100\n",
            "449/449 [==============================] - 37s 82ms/step - loss: 0.5070 - accuracy: 0.8330 - val_loss: 1.4085 - val_accuracy: 0.5836\n",
            "Epoch 17/100\n",
            "449/449 [==============================] - 36s 80ms/step - loss: 0.4624 - accuracy: 0.8492 - val_loss: 1.4004 - val_accuracy: 0.5686\n",
            "Epoch 18/100\n",
            "449/449 [==============================] - 36s 80ms/step - loss: 0.4157 - accuracy: 0.8684 - val_loss: 1.5450 - val_accuracy: 0.5677\n",
            "Epoch 19/100\n",
            "449/449 [==============================] - 36s 80ms/step - loss: 0.4018 - accuracy: 0.8714 - val_loss: 1.5384 - val_accuracy: 0.5818\n",
            "Epoch 20/100\n",
            "449/449 [==============================] - 36s 79ms/step - loss: 0.3700 - accuracy: 0.8831 - val_loss: 1.6179 - val_accuracy: 0.5416\n",
            "Epoch 21/100\n",
            "449/449 [==============================] - 36s 79ms/step - loss: 0.3245 - accuracy: 0.8980 - val_loss: 1.6632 - val_accuracy: 0.5884\n",
            "Epoch 22/100\n",
            "449/449 [==============================] - 36s 79ms/step - loss: 0.2940 - accuracy: 0.9096 - val_loss: 1.5794 - val_accuracy: 0.5628\n",
            "Epoch 23/100\n",
            "449/449 [==============================] - 36s 79ms/step - loss: 0.2826 - accuracy: 0.9131 - val_loss: 1.7909 - val_accuracy: 0.5587\n",
            "Epoch 24/100\n",
            "449/449 [==============================] - 36s 81ms/step - loss: 0.2599 - accuracy: 0.9217 - val_loss: 1.6627 - val_accuracy: 0.5544\n",
            "Epoch 25/100\n",
            "449/449 [==============================] - 36s 80ms/step - loss: 0.2572 - accuracy: 0.9229 - val_loss: 1.6502 - val_accuracy: 0.5727\n",
            "Epoch 26/100\n",
            "449/449 [==============================] - 39s 87ms/step - loss: 0.2193 - accuracy: 0.9354 - val_loss: 1.7485 - val_accuracy: 0.5607\n",
            "Epoch 27/100\n",
            "449/449 [==============================] - 37s 82ms/step - loss: 0.2151 - accuracy: 0.9378 - val_loss: 2.0441 - val_accuracy: 0.5711\n",
            "Epoch 28/100\n",
            "449/449 [==============================] - 36s 81ms/step - loss: 0.1991 - accuracy: 0.9419 - val_loss: 1.7078 - val_accuracy: 0.5703\n",
            "Epoch 29/100\n",
            "449/449 [==============================] - 38s 85ms/step - loss: 0.2040 - accuracy: 0.9406 - val_loss: 1.7251 - val_accuracy: 0.5882\n",
            "Epoch 30/100\n",
            "449/449 [==============================] - 36s 80ms/step - loss: 0.1909 - accuracy: 0.9435 - val_loss: 1.7608 - val_accuracy: 0.5711\n",
            "Epoch 31/100\n",
            "449/449 [==============================] - 36s 79ms/step - loss: 0.1902 - accuracy: 0.9443 - val_loss: 1.8095 - val_accuracy: 0.5657\n",
            "Epoch 32/100\n",
            "449/449 [==============================] - 36s 81ms/step - loss: 0.1885 - accuracy: 0.9466 - val_loss: 1.8890 - val_accuracy: 0.5597\n",
            "Epoch 33/100\n",
            "449/449 [==============================] - 36s 80ms/step - loss: 0.1665 - accuracy: 0.9514 - val_loss: 1.8887 - val_accuracy: 0.5445\n",
            "Epoch 34/100\n",
            "449/449 [==============================] - 36s 79ms/step - loss: 0.1587 - accuracy: 0.9524 - val_loss: 1.8234 - val_accuracy: 0.5785\n",
            "Epoch 35/100\n",
            "449/449 [==============================] - 37s 82ms/step - loss: 0.1663 - accuracy: 0.9514 - val_loss: 1.9035 - val_accuracy: 0.5965\n",
            "Epoch 36/100\n",
            "449/449 [==============================] - 36s 79ms/step - loss: 0.1441 - accuracy: 0.9582 - val_loss: 1.9319 - val_accuracy: 0.5914\n",
            "Epoch 37/100\n",
            "449/449 [==============================] - 36s 81ms/step - loss: 0.1505 - accuracy: 0.9580 - val_loss: 1.9117 - val_accuracy: 0.5668\n",
            "Epoch 38/100\n",
            "449/449 [==============================] - 38s 85ms/step - loss: 0.1784 - accuracy: 0.9513 - val_loss: 1.9998 - val_accuracy: 0.5519\n",
            "Epoch 39/100\n",
            "449/449 [==============================] - 36s 80ms/step - loss: 0.1430 - accuracy: 0.9602 - val_loss: 2.0369 - val_accuracy: 0.5771\n",
            "Epoch 40/100\n",
            "449/449 [==============================] - 39s 87ms/step - loss: 0.1393 - accuracy: 0.9599 - val_loss: 1.9351 - val_accuracy: 0.5552\n",
            "Epoch 41/100\n",
            "449/449 [==============================] - 36s 80ms/step - loss: 0.1241 - accuracy: 0.9659 - val_loss: 1.8751 - val_accuracy: 0.5829\n",
            "Epoch 42/100\n",
            "449/449 [==============================] - 36s 80ms/step - loss: 0.1184 - accuracy: 0.9660 - val_loss: 1.8780 - val_accuracy: 0.5847\n",
            "Epoch 43/100\n",
            "449/449 [==============================] - 36s 81ms/step - loss: 0.1306 - accuracy: 0.9633 - val_loss: 2.5621 - val_accuracy: 0.5799\n",
            "Epoch 44/100\n",
            "449/449 [==============================] - 36s 80ms/step - loss: 0.1914 - accuracy: 0.9462 - val_loss: 2.0674 - val_accuracy: 0.5064\n",
            "Epoch 45/100\n",
            "449/449 [==============================] - 36s 79ms/step - loss: 0.1570 - accuracy: 0.9533 - val_loss: 1.9144 - val_accuracy: 0.5873\n",
            "Epoch 46/100\n",
            "449/449 [==============================] - 36s 79ms/step - loss: 0.1092 - accuracy: 0.9696 - val_loss: 2.1716 - val_accuracy: 0.5790\n",
            "Epoch 47/100\n",
            "449/449 [==============================] - 36s 79ms/step - loss: 0.0932 - accuracy: 0.9734 - val_loss: 2.0655 - val_accuracy: 0.5670\n",
            "Epoch 48/100\n",
            "449/449 [==============================] - 36s 81ms/step - loss: 0.1038 - accuracy: 0.9697 - val_loss: 1.8420 - val_accuracy: 0.5861\n",
            "Epoch 49/100\n",
            "449/449 [==============================] - 36s 79ms/step - loss: 0.1627 - accuracy: 0.9531 - val_loss: 1.9212 - val_accuracy: 0.5552\n",
            "Epoch 50/100\n",
            "449/449 [==============================] - 36s 80ms/step - loss: 0.1464 - accuracy: 0.9673 - val_loss: 2.2515 - val_accuracy: 0.5746\n",
            "Epoch 51/100\n",
            "449/449 [==============================] - 37s 82ms/step - loss: 0.1100 - accuracy: 0.9690 - val_loss: 1.9493 - val_accuracy: 0.5904\n",
            "Epoch 52/100\n",
            "449/449 [==============================] - 36s 80ms/step - loss: 0.1469 - accuracy: 0.9623 - val_loss: 2.9472 - val_accuracy: 0.3690\n",
            "Epoch 53/100\n",
            "449/449 [==============================] - 38s 84ms/step - loss: 0.1640 - accuracy: 0.9519 - val_loss: 1.9306 - val_accuracy: 0.5917\n",
            "Epoch 54/100\n",
            "449/449 [==============================] - 36s 80ms/step - loss: 0.0908 - accuracy: 0.9755 - val_loss: 1.9683 - val_accuracy: 0.5975\n",
            "Epoch 55/100\n",
            "449/449 [==============================] - 37s 81ms/step - loss: 0.0784 - accuracy: 0.9806 - val_loss: 2.0891 - val_accuracy: 0.5414\n",
            "Epoch 56/100\n",
            "449/449 [==============================] - 38s 86ms/step - loss: 0.0891 - accuracy: 0.9760 - val_loss: 2.0859 - val_accuracy: 0.5658\n",
            "Epoch 57/100\n",
            "449/449 [==============================] - 36s 79ms/step - loss: 0.1021 - accuracy: 0.9706 - val_loss: 2.1226 - val_accuracy: 0.5711\n",
            "Epoch 58/100\n",
            "449/449 [==============================] - 38s 84ms/step - loss: 0.0964 - accuracy: 0.9734 - val_loss: 1.8805 - val_accuracy: 0.5751\n",
            "Epoch 59/100\n",
            "449/449 [==============================] - 38s 85ms/step - loss: 0.0932 - accuracy: 0.9754 - val_loss: 2.0423 - val_accuracy: 0.5629\n",
            "Epoch 60/100\n",
            "449/449 [==============================] - 36s 80ms/step - loss: 0.0845 - accuracy: 0.9769 - val_loss: 2.0824 - val_accuracy: 0.5911\n",
            "Epoch 61/100\n",
            "449/449 [==============================] - 36s 80ms/step - loss: 0.0830 - accuracy: 0.9759 - val_loss: 2.4203 - val_accuracy: 0.5859\n",
            "Epoch 62/100\n",
            "449/449 [==============================] - 36s 79ms/step - loss: 0.0971 - accuracy: 0.9732 - val_loss: 1.9239 - val_accuracy: 0.5769\n",
            "Epoch 63/100\n",
            "449/449 [==============================] - 36s 79ms/step - loss: 0.1081 - accuracy: 0.9690 - val_loss: 2.3977 - val_accuracy: 0.5661\n",
            "Epoch 64/100\n",
            "449/449 [==============================] - 36s 81ms/step - loss: 0.0813 - accuracy: 0.9775 - val_loss: 2.1539 - val_accuracy: 0.5522\n",
            "Epoch 65/100\n",
            "449/449 [==============================] - 36s 79ms/step - loss: 0.1104 - accuracy: 0.9681 - val_loss: 1.8681 - val_accuracy: 0.5837\n",
            "Epoch 66/100\n",
            "449/449 [==============================] - 36s 79ms/step - loss: 0.1250 - accuracy: 0.9650 - val_loss: 1.8311 - val_accuracy: 0.5869\n",
            "Epoch 67/100\n",
            "449/449 [==============================] - 38s 84ms/step - loss: 0.0816 - accuracy: 0.9777 - val_loss: 2.6712 - val_accuracy: 0.5466\n",
            "Epoch 68/100\n",
            "449/449 [==============================] - 36s 79ms/step - loss: 0.1041 - accuracy: 0.9709 - val_loss: 2.1724 - val_accuracy: 0.5724\n",
            "Epoch 69/100\n",
            "449/449 [==============================] - 38s 84ms/step - loss: 0.0695 - accuracy: 0.9816 - val_loss: 2.0561 - val_accuracy: 0.5598\n",
            "Epoch 70/100\n",
            "449/449 [==============================] - 36s 79ms/step - loss: 0.0681 - accuracy: 0.9809 - val_loss: 2.0146 - val_accuracy: 0.5723\n",
            "Epoch 71/100\n",
            "449/449 [==============================] - 38s 84ms/step - loss: 0.0833 - accuracy: 0.9773 - val_loss: 2.1105 - val_accuracy: 0.5798\n",
            "Epoch 72/100\n",
            "449/449 [==============================] - 39s 86ms/step - loss: 0.0697 - accuracy: 0.9803 - val_loss: 2.2863 - val_accuracy: 0.5813\n",
            "Epoch 73/100\n",
            "449/449 [==============================] - 36s 80ms/step - loss: 0.0817 - accuracy: 0.9777 - val_loss: 2.0537 - val_accuracy: 0.5523\n",
            "Epoch 74/100\n",
            "449/449 [==============================] - 36s 80ms/step - loss: 0.0847 - accuracy: 0.9765 - val_loss: 2.3432 - val_accuracy: 0.5752\n",
            "Epoch 75/100\n",
            "449/449 [==============================] - 38s 85ms/step - loss: 0.0864 - accuracy: 0.9755 - val_loss: 2.1535 - val_accuracy: 0.5603\n",
            "Epoch 76/100\n",
            "449/449 [==============================] - 36s 80ms/step - loss: 0.0794 - accuracy: 0.9783 - val_loss: 2.1735 - val_accuracy: 0.5463\n",
            "Epoch 77/100\n",
            "449/449 [==============================] - 38s 85ms/step - loss: 0.0783 - accuracy: 0.9806 - val_loss: 25.4748 - val_accuracy: 0.4323\n",
            "Epoch 78/100\n",
            "449/449 [==============================] - 38s 85ms/step - loss: 0.6331 - accuracy: 0.8558 - val_loss: 1.6069 - val_accuracy: 0.5544\n",
            "Epoch 79/100\n",
            "449/449 [==============================] - 36s 80ms/step - loss: 0.1517 - accuracy: 0.9582 - val_loss: 2.0092 - val_accuracy: 0.5586\n",
            "Epoch 80/100\n",
            "449/449 [==============================] - 36s 81ms/step - loss: 0.0729 - accuracy: 0.9811 - val_loss: 2.0139 - val_accuracy: 0.5977\n",
            "Epoch 81/100\n",
            "449/449 [==============================] - 36s 80ms/step - loss: 0.0525 - accuracy: 0.9858 - val_loss: 2.6937 - val_accuracy: 0.5858\n",
            "Epoch 82/100\n",
            "449/449 [==============================] - 36s 80ms/step - loss: 0.0719 - accuracy: 0.9800 - val_loss: 2.0884 - val_accuracy: 0.5975\n",
            "Epoch 83/100\n",
            "449/449 [==============================] - 38s 85ms/step - loss: 0.0653 - accuracy: 0.9807 - val_loss: 2.1666 - val_accuracy: 0.5778\n",
            "Epoch 84/100\n",
            "449/449 [==============================] - 36s 80ms/step - loss: 0.0471 - accuracy: 0.9874 - val_loss: 2.3207 - val_accuracy: 0.5852\n",
            "Epoch 85/100\n",
            "449/449 [==============================] - 36s 80ms/step - loss: 0.0771 - accuracy: 0.9788 - val_loss: 2.0970 - val_accuracy: 0.5660\n",
            "Epoch 86/100\n",
            "449/449 [==============================] - 36s 80ms/step - loss: 0.0633 - accuracy: 0.9827 - val_loss: 2.2681 - val_accuracy: 0.5760\n",
            "Epoch 87/100\n",
            "449/449 [==============================] - 38s 85ms/step - loss: 0.0647 - accuracy: 0.9825 - val_loss: 2.2509 - val_accuracy: 0.5893\n",
            "Epoch 88/100\n",
            "449/449 [==============================] - 37s 82ms/step - loss: 0.0494 - accuracy: 0.9858 - val_loss: 2.7071 - val_accuracy: 0.5739\n",
            "Epoch 89/100\n",
            "449/449 [==============================] - 36s 80ms/step - loss: 0.0922 - accuracy: 0.9747 - val_loss: 2.0565 - val_accuracy: 0.5763\n",
            "Epoch 90/100\n",
            "449/449 [==============================] - 36s 80ms/step - loss: 0.1143 - accuracy: 0.9678 - val_loss: 2.5460 - val_accuracy: 0.5039\n",
            "Epoch 91/100\n",
            "449/449 [==============================] - 36s 80ms/step - loss: 0.0672 - accuracy: 0.9808 - val_loss: 2.2846 - val_accuracy: 0.5672\n",
            "Epoch 92/100\n",
            "449/449 [==============================] - 36s 80ms/step - loss: 0.0621 - accuracy: 0.9832 - val_loss: 2.0547 - val_accuracy: 0.5834\n",
            "Epoch 93/100\n",
            "449/449 [==============================] - 38s 85ms/step - loss: 0.0680 - accuracy: 0.9803 - val_loss: 2.0164 - val_accuracy: 0.5855\n",
            "Epoch 94/100\n",
            "449/449 [==============================] - 36s 80ms/step - loss: 0.0647 - accuracy: 0.9822 - val_loss: 2.3973 - val_accuracy: 0.5843\n",
            "Epoch 95/100\n",
            "449/449 [==============================] - 36s 80ms/step - loss: 0.0736 - accuracy: 0.9793 - val_loss: 2.1418 - val_accuracy: 0.5953\n",
            "Epoch 96/100\n",
            "449/449 [==============================] - 38s 85ms/step - loss: 0.0607 - accuracy: 0.9822 - val_loss: 2.0257 - val_accuracy: 0.5957\n",
            "Epoch 97/100\n",
            "449/449 [==============================] - 36s 81ms/step - loss: 0.0636 - accuracy: 0.9823 - val_loss: 2.2585 - val_accuracy: 0.5218\n",
            "Epoch 98/100\n",
            "449/449 [==============================] - 36s 80ms/step - loss: 0.0627 - accuracy: 0.9825 - val_loss: 2.4661 - val_accuracy: 0.5748\n",
            "Epoch 99/100\n",
            "449/449 [==============================] - 36s 80ms/step - loss: 0.1336 - accuracy: 0.9643 - val_loss: 2.0338 - val_accuracy: 0.5559\n",
            "Epoch 100/100\n",
            "449/449 [==============================] - 38s 85ms/step - loss: 0.0741 - accuracy: 0.9790 - val_loss: 1.9873 - val_accuracy: 0.5942\n"
          ]
        }
      ]
    },
    {
      "cell_type": "code",
      "source": [
        "model.save('model.h5')"
      ],
      "metadata": {
        "id": "Xizggd2lm5FW"
      },
      "execution_count": null,
      "outputs": []
    },
    {
      "cell_type": "code",
      "source": [
        "from keras.models import load_model\n",
        "model=load_model('model.h5')"
      ],
      "metadata": {
        "id": "dHwwYG7AnD6o"
      },
      "execution_count": null,
      "outputs": []
    },
    {
      "cell_type": "code",
      "source": [
        "face_haar_cascade = cv2.CascadeClassifier('/content/haarcascade_frontalface_default.xml')"
      ],
      "metadata": {
        "id": "EVeU2CX_nMKw"
      },
      "execution_count": null,
      "outputs": []
    },
    {
      "cell_type": "code",
      "source": [
        "from keras.preprocessing import image\n",
        "import matplotlib.pyplot as plt"
      ],
      "metadata": {
        "id": "am1KE8rAxx4y"
      },
      "execution_count": null,
      "outputs": []
    },
    {
      "cell_type": "code",
      "source": [
        "label_dict = {0 : 'Angry', 1 : 'Disgust', 2 : 'Fear', 3 : 'Happiness', 4 : 'Sad', 5 : 'Surprise', 6 : 'Neutral'}\n",
        "img_path = '/content/test/happy/PrivateTest_10470092.jpg'\n",
        "img = image.load_img(img_path, target_size=(48,48,3))\n",
        "\n",
        "x = image.img_to_array(img)\n",
        "x = np.expand_dims(x, axis=0)\n",
        "\n",
        "prediction = np.argmax(model.predict(x))\n",
        "print('The predicted emotion is : ' + label_dict[prediction])\n",
        "my_image = image.load_img(img_path)\n",
        "plt.imshow(my_image)"
      ],
      "metadata": {
        "colab": {
          "base_uri": "https://localhost:8080/",
          "height": 302
        },
        "id": "TMm8L5k_v719",
        "outputId": "2fc2cfc7-6489-4907-ed5c-383721ceb99c"
      },
      "execution_count": null,
      "outputs": [
        {
          "output_type": "stream",
          "name": "stdout",
          "text": [
            "The predicted emotion is : Happiness\n"
          ]
        },
        {
          "output_type": "execute_result",
          "data": {
            "text/plain": [
              "<matplotlib.image.AxesImage at 0x7f091c378a10>"
            ]
          },
          "metadata": {},
          "execution_count": 21
        },
        {
          "output_type": "display_data",
          "data": {
            "text/plain": [
              "<Figure size 432x288 with 1 Axes>"
            ],
            "image/png": "[encoded data removed]"
          },
          "metadata": {
            "needs_background": "light"
          }
        }
      ]
    }
  ]
}